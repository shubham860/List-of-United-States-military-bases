{
 "cells": [
  {
   "cell_type": "code",
   "execution_count": 201,
   "metadata": {},
   "outputs": [],
   "source": [
    "import pandas as pd\n",
    "from bs4 import BeautifulSoup\n",
    "from selenium import webdriver\n",
    "\n",
    "drivers = webdriver.Chrome(\"C:\\\\usr\\\\chromedriver\")"
   ]
  },
  {
   "cell_type": "code",
   "execution_count": 202,
   "metadata": {},
   "outputs": [],
   "source": [
    "url = \"https://en.wikipedia.org/wiki/List_of_United_States_military_bases\""
   ]
  },
  {
   "cell_type": "code",
   "execution_count": 203,
   "metadata": {},
   "outputs": [],
   "source": [
    "drivers.get(url)\n",
    "content = drivers.page_source\n",
    "soup = BeautifulSoup(content)"
   ]
  },
  {
   "cell_type": "code",
   "execution_count": 204,
   "metadata": {},
   "outputs": [],
   "source": [
    "Domestic = []\n",
    "Overseas = []"
   ]
  },
  {
   "cell_type": "code",
   "execution_count": 205,
   "metadata": {},
   "outputs": [],
   "source": [
    "country = soup.findAll('td',attrs={'style':'text-align: left; vertical-align: top;'})"
   ]
  },
  {
   "cell_type": "code",
   "execution_count": 206,
   "metadata": {},
   "outputs": [],
   "source": [
    "for i in range(0,17,2):\n",
    "    results = (country[2].contents[1].contents[i].contents[0]).replace('\\n','')\n",
    "    Domestic.append(results)"
   ]
  },
  {
   "cell_type": "code",
   "execution_count": 207,
   "metadata": {},
   "outputs": [],
   "source": [
    "for j in range(20,79,2):\n",
    "    results = (country[2].contents[1].contents[j].contents[0]).replace('\\n','')\n",
    "    Domestic.append(results)"
   ]
  },
  {
   "cell_type": "code",
   "execution_count": 208,
   "metadata": {},
   "outputs": [],
   "source": [
    "for k in range(82,105,2):\n",
    "    results = (country[2].contents[1].contents[k].contents[0]).replace('\\n','')\n",
    "    Domestic.append(results)"
   ]
  },
  {
   "cell_type": "code",
   "execution_count": 209,
   "metadata": {},
   "outputs": [],
   "source": [
    "url = \"https://en.wikipedia.org/wiki/List_of_countries_with_overseas_military_bases\""
   ]
  },
  {
   "cell_type": "code",
   "execution_count": 210,
   "metadata": {},
   "outputs": [],
   "source": [
    "drivers.get(url)\n",
    "content = drivers.page_source\n",
    "soup = BeautifulSoup(content)"
   ]
  },
  {
   "cell_type": "code",
   "execution_count": 211,
   "metadata": {},
   "outputs": [],
   "source": [
    "result = soup.findAll('ul')"
   ]
  },
  {
   "cell_type": "code",
   "execution_count": 212,
   "metadata": {},
   "outputs": [],
   "source": [
    "for i in range(0,63,2):\n",
    "    countries = result[18].contents[i].contents[1].text\n",
    "    Overseas.append(countries)    "
   ]
  },
  {
   "cell_type": "code",
   "execution_count": 243,
   "metadata": {},
   "outputs": [],
   "source": [
    "result = soup.findChild('ul')"
   ]
  },
  {
   "cell_type": "code",
   "execution_count": 244,
   "metadata": {},
   "outputs": [
    {
     "data": {
      "text/plain": [
       "<ul>\n",
       "<li class=\"toclevel-1 tocsection-1\"><a href=\"#Background\"><span class=\"tocnumber\">1</span> <span class=\"toctext\">Background</span></a></li>\n",
       "<li class=\"toclevel-1 tocsection-2\"><a href=\"#Australia\"><span class=\"tocnumber\">2</span> <span class=\"toctext\">Australia</span></a></li>\n",
       "<li class=\"toclevel-1 tocsection-3\"><a href=\"#China\"><span class=\"tocnumber\">3</span> <span class=\"toctext\">China</span></a></li>\n",
       "<li class=\"toclevel-1 tocsection-4\"><a href=\"#France\"><span class=\"tocnumber\">4</span> <span class=\"toctext\">France</span></a></li>\n",
       "<li class=\"toclevel-1 tocsection-5\"><a href=\"#Germany\"><span class=\"tocnumber\">5</span> <span class=\"toctext\">Germany</span></a></li>\n",
       "<li class=\"toclevel-1 tocsection-6\"><a href=\"#Greece\"><span class=\"tocnumber\">6</span> <span class=\"toctext\">Greece</span></a></li>\n",
       "<li class=\"toclevel-1 tocsection-7\"><a href=\"#India\"><span class=\"tocnumber\">7</span> <span class=\"toctext\">India</span></a></li>\n",
       "<li class=\"toclevel-1 tocsection-8\"><a href=\"#Israel\"><span class=\"tocnumber\">8</span> <span class=\"toctext\">Israel</span></a></li>\n",
       "<li class=\"toclevel-1 tocsection-9\"><a href=\"#Italy\"><span class=\"tocnumber\">9</span> <span class=\"toctext\">Italy</span></a></li>\n",
       "<li class=\"toclevel-1 tocsection-10\"><a href=\"#Japan\"><span class=\"tocnumber\">10</span> <span class=\"toctext\">Japan</span></a></li>\n",
       "<li class=\"toclevel-1 tocsection-11\"><a href=\"#Pakistan\"><span class=\"tocnumber\">11</span> <span class=\"toctext\">Pakistan</span></a></li>\n",
       "<li class=\"toclevel-1 tocsection-12\"><a href=\"#Russia\"><span class=\"tocnumber\">12</span> <span class=\"toctext\">Russia</span></a></li>\n",
       "<li class=\"toclevel-1 tocsection-13\"><a href=\"#Singapore\"><span class=\"tocnumber\">13</span> <span class=\"toctext\">Singapore</span></a></li>\n",
       "<li class=\"toclevel-1 tocsection-14\"><a href=\"#Turkey\"><span class=\"tocnumber\">14</span> <span class=\"toctext\">Turkey</span></a></li>\n",
       "<li class=\"toclevel-1 tocsection-15\"><a href=\"#United_Arab_Emirates\"><span class=\"tocnumber\">15</span> <span class=\"toctext\">United Arab Emirates</span></a></li>\n",
       "<li class=\"toclevel-1 tocsection-16\"><a href=\"#United_Kingdom\"><span class=\"tocnumber\">16</span> <span class=\"toctext\">United Kingdom</span></a></li>\n",
       "<li class=\"toclevel-1 tocsection-17\"><a href=\"#United_States\"><span class=\"tocnumber\">17</span> <span class=\"toctext\">United States</span></a></li>\n",
       "<li class=\"toclevel-1 tocsection-18\"><a href=\"#See_also\"><span class=\"tocnumber\">18</span> <span class=\"toctext\">See also</span></a></li>\n",
       "<li class=\"toclevel-1 tocsection-19\"><a href=\"#Notes\"><span class=\"tocnumber\">19</span> <span class=\"toctext\">Notes</span></a></li>\n",
       "<li class=\"toclevel-1 tocsection-20\"><a href=\"#References\"><span class=\"tocnumber\">20</span> <span class=\"toctext\">References</span></a></li>\n",
       "<li class=\"toclevel-1 tocsection-21\"><a href=\"#External_links\"><span class=\"tocnumber\">21</span> <span class=\"toctext\">External links</span></a></li>\n",
       "</ul>"
      ]
     },
     "execution_count": 244,
     "metadata": {},
     "output_type": "execute_result"
    }
   ],
   "source": [
    "result"
   ]
  },
  {
   "cell_type": "code",
   "execution_count": 213,
   "metadata": {},
   "outputs": [],
   "source": [
    "countries = result[19].contents[0].contents[1].text\n",
    "Overseas.append(countries)    "
   ]
  },
  {
   "cell_type": "code",
   "execution_count": 214,
   "metadata": {},
   "outputs": [],
   "source": [
    "for m in range(0,5,2):\n",
    "    countries = result[20].contents[m].contents[1].text\n",
    "    Overseas.append(countries) "
   ]
  },
  {
   "cell_type": "markdown",
   "metadata": {},
   "source": []
  },
  {
   "cell_type": "code",
   "execution_count": 217,
   "metadata": {},
   "outputs": [],
   "source": [
    "dataset1 = pd.DataFrame({'Domestic':Domestic})\n",
    "dataset2 = pd.DataFrame({'Overseas':Overseas})"
   ]
  },
  {
   "cell_type": "code",
   "execution_count": 219,
   "metadata": {},
   "outputs": [],
   "source": [
    "import plotly.plotly as py\n",
    "import plotly.graph_objs as go \n",
    "from plotly.offline import download_plotlyjs, init_notebook_mode, plot, iplot"
   ]
  },
  {
   "cell_type": "code",
   "execution_count": 220,
   "metadata": {},
   "outputs": [
    {
     "data": {
      "text/html": [
       "        <script type=\"text/javascript\">\n",
       "        window.PlotlyConfig = {MathJaxConfig: 'local'};\n",
       "        if (window.MathJax) {MathJax.Hub.Config({SVG: {font: \"STIX-Web\"}});}\n",
       "        if (typeof require !== 'undefined') {\n",
       "        require.undef(\"plotly\");\n",
       "        requirejs.config({\n",
       "            paths: {\n",
       "                'plotly': ['https://cdn.plot.ly/plotly-latest.min']\n",
       "            }\n",
       "        });\n",
       "        require(['plotly'], function(Plotly) {\n",
       "            window._Plotly = Plotly;\n",
       "        });\n",
       "        }\n",
       "        </script>\n",
       "        "
      ]
     },
     "metadata": {},
     "output_type": "display_data"
    }
   ],
   "source": [
    "init_notebook_mode(connected=True) "
   ]
  },
  {
   "cell_type": "code",
   "execution_count": 221,
   "metadata": {},
   "outputs": [],
   "source": [
    "data = dict(\n",
    "        type = 'choropleth',\n",
    "        colorscale = 'Viridis',\n",
    "        reversescale = True,\n",
    "        locations = dataset1['Domestic'],\n",
    "        locationmode = \"country names\",\n",
    "        text = dataset1['Domestic'],\n",
    "        colorbar = {'title' : 'United States Domestic Military bases'},\n",
    "      ) \n",
    "\n",
    "layout = dict(title = 'United States Military bases',\n",
    "                geo = dict(showframe = False,projection = {'type':'natural earth'})\n",
    "             )"
   ]
  },
  {
   "cell_type": "code",
   "execution_count": 222,
   "metadata": {},
   "outputs": [
    {
     "data": {
      "application/vnd.plotly.v1+json": {
       "config": {
        "linkText": "Export to plot.ly",
        "plotlyServerURL": "https://plot.ly",
        "showLink": false
       },
       "data": [
        {
         "colorbar": {
          "title": {
           "text": "United States Domestic Military bases"
          }
         },
         "colorscale": "Viridis",
         "locationmode": "country names",
         "locations": [
          "Alabama",
          "American Samoa",
          "Alaska",
          "Arizona",
          "Arkansas",
          "California",
          "Colorado",
          "Connecticut",
          "Delaware",
          "Florida",
          "Georgia",
          "Hawaii",
          "Idaho",
          "Illinois",
          "Indiana",
          "Iowa",
          "Kansas",
          "Kentucky",
          "Louisiana",
          "Maine",
          "Maryland",
          "Massachusetts",
          "Michigan",
          "Minnesota",
          "Mississippi",
          "Missouri",
          "Montana",
          "Nebraska",
          "Nevada",
          "New Hampshire",
          "New Jersey",
          "New Mexico",
          "New York",
          "North Carolina",
          "North Dakota",
          "Ohio",
          "Oklahoma",
          "Oregon",
          "Pennsylvania",
          "Rhode Island",
          "South Carolina",
          "South Dakota",
          "Tennessee",
          "Texas",
          "Utah",
          "Vermont",
          "Virginia",
          "Washington",
          "West Virginia",
          "Wisconsin",
          "Wyoming"
         ],
         "reversescale": true,
         "text": [
          "Alabama",
          "American Samoa",
          "Alaska",
          "Arizona",
          "Arkansas",
          "California",
          "Colorado",
          "Connecticut",
          "Delaware",
          "Florida",
          "Georgia",
          "Hawaii",
          "Idaho",
          "Illinois",
          "Indiana",
          "Iowa",
          "Kansas",
          "Kentucky",
          "Louisiana",
          "Maine",
          "Maryland",
          "Massachusetts",
          "Michigan",
          "Minnesota",
          "Mississippi",
          "Missouri",
          "Montana",
          "Nebraska",
          "Nevada",
          "New Hampshire",
          "New Jersey",
          "New Mexico",
          "New York",
          "North Carolina",
          "North Dakota",
          "Ohio",
          "Oklahoma",
          "Oregon",
          "Pennsylvania",
          "Rhode Island",
          "South Carolina",
          "South Dakota",
          "Tennessee",
          "Texas",
          "Utah",
          "Vermont",
          "Virginia",
          "Washington",
          "West Virginia",
          "Wisconsin",
          "Wyoming"
         ],
         "type": "choropleth",
         "uid": "62ea1fc8-8114-469e-bf21-5d655425a038"
        }
       ],
       "layout": {
        "geo": {
         "projection": {
          "type": "natural earth"
         },
         "showframe": false
        },
        "title": {
         "text": "United States Military bases"
        }
       }
      },
      "text/html": [
       "<div>\n",
       "        \n",
       "        \n",
       "            <div id=\"39e65835-87fc-4648-a32e-6d12836c07b1\" class=\"plotly-graph-div\" style=\"height:525px; width:100%;\"></div>\n",
       "            <script type=\"text/javascript\">\n",
       "                require([\"plotly\"], function(Plotly) {\n",
       "                    window.PLOTLYENV=window.PLOTLYENV || {};\n",
       "                    window.PLOTLYENV.BASE_URL='https://plot.ly';\n",
       "                    \n",
       "                if (document.getElementById(\"39e65835-87fc-4648-a32e-6d12836c07b1\")) {\n",
       "                    Plotly.newPlot(\n",
       "                        '39e65835-87fc-4648-a32e-6d12836c07b1',\n",
       "                        [{\"colorbar\": {\"title\": {\"text\": \"United States Domestic Military bases\"}}, \"colorscale\": \"Viridis\", \"locationmode\": \"country names\", \"locations\": [\"Alabama\", \"American Samoa\", \"Alaska\", \"Arizona\", \"Arkansas\", \"California\", \"Colorado\", \"Connecticut\", \"Delaware\", \"Florida\", \"Georgia\", \"Hawaii\", \"Idaho\", \"Illinois\", \"Indiana\", \"Iowa\", \"Kansas\", \"Kentucky\", \"Louisiana\", \"Maine\", \"Maryland\", \"Massachusetts\", \"Michigan\", \"Minnesota\", \"Mississippi\", \"Missouri\", \"Montana\", \"Nebraska\", \"Nevada\", \"New Hampshire\", \"New Jersey\", \"New Mexico\", \"New York\", \"North Carolina\", \"North Dakota\", \"Ohio\", \"Oklahoma\", \"Oregon\", \"Pennsylvania\", \"Rhode Island\", \"South Carolina\", \"South Dakota\", \"Tennessee\", \"Texas\", \"Utah\", \"Vermont\", \"Virginia\", \"Washington\", \"West Virginia\", \"Wisconsin\", \"Wyoming\"], \"reversescale\": true, \"text\": [\"Alabama\", \"American Samoa\", \"Alaska\", \"Arizona\", \"Arkansas\", \"California\", \"Colorado\", \"Connecticut\", \"Delaware\", \"Florida\", \"Georgia\", \"Hawaii\", \"Idaho\", \"Illinois\", \"Indiana\", \"Iowa\", \"Kansas\", \"Kentucky\", \"Louisiana\", \"Maine\", \"Maryland\", \"Massachusetts\", \"Michigan\", \"Minnesota\", \"Mississippi\", \"Missouri\", \"Montana\", \"Nebraska\", \"Nevada\", \"New Hampshire\", \"New Jersey\", \"New Mexico\", \"New York\", \"North Carolina\", \"North Dakota\", \"Ohio\", \"Oklahoma\", \"Oregon\", \"Pennsylvania\", \"Rhode Island\", \"South Carolina\", \"South Dakota\", \"Tennessee\", \"Texas\", \"Utah\", \"Vermont\", \"Virginia\", \"Washington\", \"West Virginia\", \"Wisconsin\", \"Wyoming\"], \"type\": \"choropleth\", \"uid\": \"62ea1fc8-8114-469e-bf21-5d655425a038\"}],\n",
       "                        {\"geo\": {\"projection\": {\"type\": \"natural earth\"}, \"showframe\": false}, \"title\": {\"text\": \"United States Military bases\"}},\n",
       "                        {\"showLink\": false, \"linkText\": \"Export to plot.ly\", \"plotlyServerURL\": \"https://plot.ly\", \"responsive\": true}\n",
       "                    ).then(function(){\n",
       "                            \n",
       "var gd = document.getElementById('39e65835-87fc-4648-a32e-6d12836c07b1');\n",
       "var x = new MutationObserver(function (mutations, observer) {{\n",
       "        var display = window.getComputedStyle(gd).display;\n",
       "        if (!display || display === 'none') {{\n",
       "            console.log([gd, 'removed!']);\n",
       "            Plotly.purge(gd);\n",
       "            observer.disconnect();\n",
       "        }}\n",
       "}});\n",
       "\n",
       "// Listen for the removal of the full notebook cells\n",
       "var notebookContainer = gd.closest('#notebook-container');\n",
       "if (notebookContainer) {{\n",
       "    x.observe(notebookContainer, {childList: true});\n",
       "}}\n",
       "\n",
       "// Listen for the clearing of the current output cell\n",
       "var outputEl = gd.closest('.output');\n",
       "if (outputEl) {{\n",
       "    x.observe(outputEl, {childList: true});\n",
       "}}\n",
       "\n",
       "                        })\n",
       "                };\n",
       "                });\n",
       "            </script>\n",
       "        </div>"
      ]
     },
     "metadata": {},
     "output_type": "display_data"
    }
   ],
   "source": [
    "choromap = go.Figure(data = [data],layout = layout)\n",
    "iplot(choromap,validate=False)"
   ]
  },
  {
   "cell_type": "code",
   "execution_count": null,
   "metadata": {},
   "outputs": [],
   "source": []
  }
 ],
 "metadata": {
  "kernelspec": {
   "display_name": "Python 3",
   "language": "python",
   "name": "python3"
  },
  "language_info": {
   "codemirror_mode": {
    "name": "ipython",
    "version": 3
   },
   "file_extension": ".py",
   "mimetype": "text/x-python",
   "name": "python",
   "nbconvert_exporter": "python",
   "pygments_lexer": "ipython3",
   "version": "3.7.3"
  }
 },
 "nbformat": 4,
 "nbformat_minor": 2
}
