{
 "cells": [
  {
   "cell_type": "code",
   "execution_count": 4,
   "metadata": {},
   "outputs": [],
   "source": [
    "import plotly.plotly as py\n",
    "import plotly.graph_objs as go \n",
    "from plotly.offline import download_plotlyjs, init_notebook_mode, plot, iplot\n",
    "import pandas as pd\n",
    "import matplotlib.pyplot as plt\n",
    "import seaborn as sns\n",
    "import numpy as np"
   ]
  },
  {
   "cell_type": "code",
   "execution_count": 5,
   "metadata": {},
   "outputs": [
    {
     "data": {
      "text/html": [
       "        <script type=\"text/javascript\">\n",
       "        window.PlotlyConfig = {MathJaxConfig: 'local'};\n",
       "        if (window.MathJax) {MathJax.Hub.Config({SVG: {font: \"STIX-Web\"}});}\n",
       "        if (typeof require !== 'undefined') {\n",
       "        require.undef(\"plotly\");\n",
       "        requirejs.config({\n",
       "            paths: {\n",
       "                'plotly': ['https://cdn.plot.ly/plotly-latest.min']\n",
       "            }\n",
       "        });\n",
       "        require(['plotly'], function(Plotly) {\n",
       "            window._Plotly = Plotly;\n",
       "        });\n",
       "        }\n",
       "        </script>\n",
       "        "
      ]
     },
     "metadata": {},
     "output_type": "display_data"
    }
   ],
   "source": [
    "init_notebook_mode(connected=True) "
   ]
  },
  {
   "cell_type": "code",
   "execution_count": 6,
   "metadata": {},
   "outputs": [],
   "source": [
    "dataset1 = pd.read_csv('Domestic.csv')\n",
    "dataset2 = pd.read_csv('Overseas.csv')"
   ]
  },
  {
   "cell_type": "code",
   "execution_count": 10,
   "metadata": {},
   "outputs": [],
   "source": [
    "data_ = dict(\n",
    "        type = 'choropleth',\n",
    "        colorscale = 'Blackbody',\n",
    "        reversescale = True,\n",
    "        locations = dataset2['Country'],\n",
    "        locationmode = \"country names\",\n",
    "        z = dataset2['Military base'],\n",
    "        text = dataset2['Country'],\n",
    "        colorbar = {'title' : 'Number of bases'},\n",
    "      ) \n",
    "\n",
    "layout = dict(title = 'Overseas Army base of USA',\n",
    "                geo = dict(showframe = False,projection = {'type':'natural earth'})\n",
    "             )"
   ]
  },
  {
   "cell_type": "code",
   "execution_count": 11,
   "metadata": {},
   "outputs": [
    {
     "data": {
      "application/vnd.plotly.v1+json": {
       "config": {
        "linkText": "Export to plot.ly",
        "plotlyServerURL": "https://plot.ly",
        "showLink": false
       },
       "data": [
        {
         "colorbar": {
          "title": {
           "text": "Number of bases"
          }
         },
         "colorscale": "Blackbody",
         "locationmode": "country names",
         "locations": [
          "Afghanistan",
          "Australia",
          "Bahrain",
          "Belgium",
          "Brazil",
          "British Indian Ocean Territory",
          "Bulgaria",
          "Cuba",
          "Curaçao",
          "Djibouti",
          "Germany",
          "Greece",
          "Greenland",
          "Honduras",
          "Iceland",
          "Israel",
          "Italy",
          "Japan",
          "Kosovo",
          "Kuwait",
          "Netherlands",
          "Niger",
          "Norway",
          "Oman",
          "Philippines",
          "Portugal",
          "Qatar",
          "Saudi Arabia",
          "Singapore",
          "South Korea",
          "Spain",
          "Syria",
          "Tunisia",
          "Turkey",
          "United Arab Emirates",
          "United Kingdom"
         ],
         "reversescale": true,
         "text": [
          "Afghanistan",
          "Australia",
          "Bahrain",
          "Belgium",
          "Brazil",
          "British Indian Ocean Territory",
          "Bulgaria",
          "Cuba",
          "Curaçao",
          "Djibouti",
          "Germany",
          "Greece",
          "Greenland",
          "Honduras",
          "Iceland",
          "Israel",
          "Italy",
          "Japan",
          "Kosovo",
          "Kuwait",
          "Netherlands",
          "Niger",
          "Norway",
          "Oman",
          "Philippines",
          "Portugal",
          "Qatar",
          "Saudi Arabia",
          "Singapore",
          "South Korea",
          "Spain",
          "Syria",
          "Tunisia",
          "Turkey",
          "United Arab Emirates",
          "United Kingdom"
         ],
         "type": "choropleth",
         "uid": "7337f240-dea6-4539-9e65-34aac7670e21",
         "z": [
          4,
          2,
          2,
          2,
          2,
          1,
          4,
          1,
          1,
          1,
          4,
          1,
          1,
          1,
          1,
          5,
          1,
          1,
          4,
          2,
          1,
          1,
          2,
          1,
          1,
          1,
          1,
          1,
          2,
          3,
          1,
          2,
          3,
          6,
          1,
          2
         ]
        }
       ],
       "layout": {
        "geo": {
         "projection": {
          "type": "natural earth"
         },
         "showframe": false
        },
        "title": {
         "text": "Overseas Army base of USA"
        }
       }
      },
      "text/html": [
       "<div>\n",
       "        \n",
       "        \n",
       "            <div id=\"3ef7ee4b-e437-4f1d-a1b1-5e58123b5277\" class=\"plotly-graph-div\" style=\"height:525px; width:100%;\"></div>\n",
       "            <script type=\"text/javascript\">\n",
       "                require([\"plotly\"], function(Plotly) {\n",
       "                    window.PLOTLYENV=window.PLOTLYENV || {};\n",
       "                    window.PLOTLYENV.BASE_URL='https://plot.ly';\n",
       "                    \n",
       "                if (document.getElementById(\"3ef7ee4b-e437-4f1d-a1b1-5e58123b5277\")) {\n",
       "                    Plotly.newPlot(\n",
       "                        '3ef7ee4b-e437-4f1d-a1b1-5e58123b5277',\n",
       "                        [{\"colorbar\": {\"title\": {\"text\": \"Number of bases\"}}, \"colorscale\": \"Blackbody\", \"locationmode\": \"country names\", \"locations\": [\"Afghanistan\", \"Australia\", \"Bahrain\", \"Belgium\", \"Brazil\", \"British Indian Ocean Territory\", \"Bulgaria\", \"Cuba\", \"Cura\\u00e7ao\", \"Djibouti\", \"Germany\", \"Greece\", \"Greenland\", \"Honduras\", \"Iceland\", \"Israel\", \"Italy\", \"Japan\", \"Kosovo\", \"Kuwait\", \"Netherlands\", \"Niger\", \"Norway\", \"Oman\", \"Philippines\", \"Portugal\", \"Qatar\", \"Saudi Arabia\", \"Singapore\", \"South Korea\", \"Spain\", \"Syria\", \"Tunisia\", \"Turkey\", \"United Arab Emirates\", \"United Kingdom\"], \"reversescale\": true, \"text\": [\"Afghanistan\", \"Australia\", \"Bahrain\", \"Belgium\", \"Brazil\", \"British Indian Ocean Territory\", \"Bulgaria\", \"Cuba\", \"Cura\\u00e7ao\", \"Djibouti\", \"Germany\", \"Greece\", \"Greenland\", \"Honduras\", \"Iceland\", \"Israel\", \"Italy\", \"Japan\", \"Kosovo\", \"Kuwait\", \"Netherlands\", \"Niger\", \"Norway\", \"Oman\", \"Philippines\", \"Portugal\", \"Qatar\", \"Saudi Arabia\", \"Singapore\", \"South Korea\", \"Spain\", \"Syria\", \"Tunisia\", \"Turkey\", \"United Arab Emirates\", \"United Kingdom\"], \"type\": \"choropleth\", \"uid\": \"7337f240-dea6-4539-9e65-34aac7670e21\", \"z\": [4, 2, 2, 2, 2, 1, 4, 1, 1, 1, 4, 1, 1, 1, 1, 5, 1, 1, 4, 2, 1, 1, 2, 1, 1, 1, 1, 1, 2, 3, 1, 2, 3, 6, 1, 2]}],\n",
       "                        {\"geo\": {\"projection\": {\"type\": \"natural earth\"}, \"showframe\": false}, \"title\": {\"text\": \"Overseas Army base of USA\"}},\n",
       "                        {\"showLink\": false, \"linkText\": \"Export to plot.ly\", \"plotlyServerURL\": \"https://plot.ly\", \"responsive\": true}\n",
       "                    ).then(function(){\n",
       "                            \n",
       "var gd = document.getElementById('3ef7ee4b-e437-4f1d-a1b1-5e58123b5277');\n",
       "var x = new MutationObserver(function (mutations, observer) {{\n",
       "        var display = window.getComputedStyle(gd).display;\n",
       "        if (!display || display === 'none') {{\n",
       "            console.log([gd, 'removed!']);\n",
       "            Plotly.purge(gd);\n",
       "            observer.disconnect();\n",
       "        }}\n",
       "}});\n",
       "\n",
       "// Listen for the removal of the full notebook cells\n",
       "var notebookContainer = gd.closest('#notebook-container');\n",
       "if (notebookContainer) {{\n",
       "    x.observe(notebookContainer, {childList: true});\n",
       "}}\n",
       "\n",
       "// Listen for the clearing of the current output cell\n",
       "var outputEl = gd.closest('.output');\n",
       "if (outputEl) {{\n",
       "    x.observe(outputEl, {childList: true});\n",
       "}}\n",
       "\n",
       "                        })\n",
       "                };\n",
       "                });\n",
       "            </script>\n",
       "        </div>"
      ]
     },
     "metadata": {},
     "output_type": "display_data"
    }
   ],
   "source": [
    "choromap = go.Figure(data = [data_],layout = layout)\n",
    "iplot(choromap,validate=False)"
   ]
  },
  {
   "cell_type": "code",
   "execution_count": 7,
   "metadata": {},
   "outputs": [],
   "source": [
    "data1 = dict(type = 'choropleth',\n",
    "            locations = dataset1['Country'],\n",
    "            locationmode = 'USA-states',\n",
    "            colorscale= 'Portland',\n",
    "            text= dataset1['Country'],\n",
    "            z= dataset1['Military base'],\n",
    "            colorbar = {'title':'Domestic Military base of USA'})"
   ]
  },
  {
   "cell_type": "code",
   "execution_count": 8,
   "metadata": {},
   "outputs": [],
   "source": [
    "layout = dict(geo = {'scope':'usa'})"
   ]
  },
  {
   "cell_type": "code",
   "execution_count": 9,
   "metadata": {},
   "outputs": [
    {
     "data": {
      "application/vnd.plotly.v1+json": {
       "config": {
        "linkText": "Export to plot.ly",
        "plotlyServerURL": "https://plot.ly",
        "showLink": false
       },
       "data": [
        {
         "colorbar": {
          "title": {
           "text": "Domestic Military base of USA"
          }
         },
         "colorscale": "Portland",
         "locationmode": "USA-states",
         "locations": [
          "Alabama",
          "American Samoa",
          "Alaska",
          "Arizona",
          "Arkansas",
          "California",
          "Colorado",
          "Connecticut",
          "Delaware",
          "Florida",
          "Georgia",
          "Hawaii",
          "Idaho",
          "Illinois",
          "Indiana",
          "Iowa",
          "Kansas",
          "Kentucky",
          "Louisiana",
          "Maine",
          "Maryland",
          "Massachusetts",
          "Michigan",
          "Minnesota",
          "Mississippi",
          "Missouri",
          "Montana",
          "Nebraska",
          "Nevada",
          "New Hampshire",
          "New Jersey",
          "New Mexico",
          "New York",
          "North Carolina",
          "North Dakota",
          "Ohio",
          "Oklahoma",
          "Oregon",
          "Pennsylvania",
          "Rhode Island",
          "South Carolina",
          "South Dakota",
          "Tennessee",
          "Texas",
          "Utah",
          "Vermont",
          "Virginia",
          "Washington",
          "West Virginia",
          "Wisconsin",
          "Wyoming"
         ],
         "text": [
          "Alabama",
          "American Samoa",
          "Alaska",
          "Arizona",
          "Arkansas",
          "California",
          "Colorado",
          "Connecticut",
          "Delaware",
          "Florida",
          "Georgia",
          "Hawaii",
          "Idaho",
          "Illinois",
          "Indiana",
          "Iowa",
          "Kansas",
          "Kentucky",
          "Louisiana",
          "Maine",
          "Maryland",
          "Massachusetts",
          "Michigan",
          "Minnesota",
          "Mississippi",
          "Missouri",
          "Montana",
          "Nebraska",
          "Nevada",
          "New Hampshire",
          "New Jersey",
          "New Mexico",
          "New York",
          "North Carolina",
          "North Dakota",
          "Ohio",
          "Oklahoma",
          "Oregon",
          "Pennsylvania",
          "Rhode Island",
          "South Carolina",
          "South Dakota",
          "Tennessee",
          "Texas",
          "Utah",
          "Vermont",
          "Virginia",
          "Washington",
          "West Virginia",
          "Wisconsin",
          "Wyoming"
         ],
         "type": "choropleth",
         "uid": "8bc01147-bc2e-4017-8c1a-5a083619c696",
         "z": [
          3,
          1,
          3,
          3,
          3,
          14,
          5,
          1,
          1,
          1,
          6,
          5,
          7,
          3,
          3,
          3,
          3,
          3,
          2,
          4,
          4,
          4,
          3,
          2,
          3,
          2,
          1,
          1,
          1,
          3,
          2,
          5,
          5,
          1,
          3,
          3,
          2,
          6,
          5,
          3,
          2,
          1,
          3,
          13,
          14,
          1,
          13,
          3,
          1,
          2,
          1
         ]
        }
       ],
       "layout": {
        "geo": {
         "scope": "usa"
        }
       }
      },
      "text/html": [
       "<div>\n",
       "        \n",
       "        \n",
       "            <div id=\"daf010ef-bb7f-48b4-b478-1fac1e95d897\" class=\"plotly-graph-div\" style=\"height:525px; width:100%;\"></div>\n",
       "            <script type=\"text/javascript\">\n",
       "                require([\"plotly\"], function(Plotly) {\n",
       "                    window.PLOTLYENV=window.PLOTLYENV || {};\n",
       "                    window.PLOTLYENV.BASE_URL='https://plot.ly';\n",
       "                    \n",
       "                if (document.getElementById(\"daf010ef-bb7f-48b4-b478-1fac1e95d897\")) {\n",
       "                    Plotly.newPlot(\n",
       "                        'daf010ef-bb7f-48b4-b478-1fac1e95d897',\n",
       "                        [{\"colorbar\": {\"title\": {\"text\": \"Domestic Military base of USA\"}}, \"colorscale\": \"Portland\", \"locationmode\": \"USA-states\", \"locations\": [\"Alabama\", \"American Samoa\", \"Alaska\", \"Arizona\", \"Arkansas\", \"California\", \"Colorado\", \"Connecticut\", \"Delaware\", \"Florida\", \"Georgia\", \"Hawaii\", \"Idaho\", \"Illinois\", \"Indiana\", \"Iowa\", \"Kansas\", \"Kentucky\", \"Louisiana\", \"Maine\", \"Maryland\", \"Massachusetts\", \"Michigan\", \"Minnesota\", \"Mississippi\", \"Missouri\", \"Montana\", \"Nebraska\", \"Nevada\", \"New Hampshire\", \"New Jersey\", \"New Mexico\", \"New York\", \"North Carolina\", \"North Dakota\", \"Ohio\", \"Oklahoma\", \"Oregon\", \"Pennsylvania\", \"Rhode Island\", \"South Carolina\", \"South Dakota\", \"Tennessee\", \"Texas\", \"Utah\", \"Vermont\", \"Virginia\", \"Washington\", \"West Virginia\", \"Wisconsin\", \"Wyoming\"], \"text\": [\"Alabama\", \"American Samoa\", \"Alaska\", \"Arizona\", \"Arkansas\", \"California\", \"Colorado\", \"Connecticut\", \"Delaware\", \"Florida\", \"Georgia\", \"Hawaii\", \"Idaho\", \"Illinois\", \"Indiana\", \"Iowa\", \"Kansas\", \"Kentucky\", \"Louisiana\", \"Maine\", \"Maryland\", \"Massachusetts\", \"Michigan\", \"Minnesota\", \"Mississippi\", \"Missouri\", \"Montana\", \"Nebraska\", \"Nevada\", \"New Hampshire\", \"New Jersey\", \"New Mexico\", \"New York\", \"North Carolina\", \"North Dakota\", \"Ohio\", \"Oklahoma\", \"Oregon\", \"Pennsylvania\", \"Rhode Island\", \"South Carolina\", \"South Dakota\", \"Tennessee\", \"Texas\", \"Utah\", \"Vermont\", \"Virginia\", \"Washington\", \"West Virginia\", \"Wisconsin\", \"Wyoming\"], \"type\": \"choropleth\", \"uid\": \"8bc01147-bc2e-4017-8c1a-5a083619c696\", \"z\": [3, 1, 3, 3, 3, 14, 5, 1, 1, 1, 6, 5, 7, 3, 3, 3, 3, 3, 2, 4, 4, 4, 3, 2, 3, 2, 1, 1, 1, 3, 2, 5, 5, 1, 3, 3, 2, 6, 5, 3, 2, 1, 3, 13, 14, 1, 13, 3, 1, 2, 1]}],\n",
       "                        {\"geo\": {\"scope\": \"usa\"}},\n",
       "                        {\"showLink\": false, \"linkText\": \"Export to plot.ly\", \"plotlyServerURL\": \"https://plot.ly\", \"responsive\": true}\n",
       "                    ).then(function(){\n",
       "                            \n",
       "var gd = document.getElementById('daf010ef-bb7f-48b4-b478-1fac1e95d897');\n",
       "var x = new MutationObserver(function (mutations, observer) {{\n",
       "        var display = window.getComputedStyle(gd).display;\n",
       "        if (!display || display === 'none') {{\n",
       "            console.log([gd, 'removed!']);\n",
       "            Plotly.purge(gd);\n",
       "            observer.disconnect();\n",
       "        }}\n",
       "}});\n",
       "\n",
       "// Listen for the removal of the full notebook cells\n",
       "var notebookContainer = gd.closest('#notebook-container');\n",
       "if (notebookContainer) {{\n",
       "    x.observe(notebookContainer, {childList: true});\n",
       "}}\n",
       "\n",
       "// Listen for the clearing of the current output cell\n",
       "var outputEl = gd.closest('.output');\n",
       "if (outputEl) {{\n",
       "    x.observe(outputEl, {childList: true});\n",
       "}}\n",
       "\n",
       "                        })\n",
       "                };\n",
       "                });\n",
       "            </script>\n",
       "        </div>"
      ]
     },
     "metadata": {},
     "output_type": "display_data"
    }
   ],
   "source": [
    "choromap = go.Figure(data = [data1],layout = layout)\n",
    "iplot(choromap)"
   ]
  },
  {
   "cell_type": "code",
   "execution_count": null,
   "metadata": {},
   "outputs": [],
   "source": []
  }
 ],
 "metadata": {
  "kernelspec": {
   "display_name": "Python 3",
   "language": "python",
   "name": "python3"
  },
  "language_info": {
   "codemirror_mode": {
    "name": "ipython",
    "version": 3
   },
   "file_extension": ".py",
   "mimetype": "text/x-python",
   "name": "python",
   "nbconvert_exporter": "python",
   "pygments_lexer": "ipython3",
   "version": "3.7.3"
  }
 },
 "nbformat": 4,
 "nbformat_minor": 2
}
