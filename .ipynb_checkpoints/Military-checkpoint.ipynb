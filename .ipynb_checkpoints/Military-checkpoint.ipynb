{
 "cells": [
  {
   "cell_type": "code",
   "execution_count": 418,
   "metadata": {},
   "outputs": [],
   "source": [
    "import pandas as pd\n",
    "from bs4 import BeautifulSoup\n",
    "from selenium import webdriver\n",
    "\n",
    "drivers = webdriver.Chrome(\"C:\\\\usr\\\\chromedriver\")"
   ]
  },
  {
   "cell_type": "code",
   "execution_count": 419,
   "metadata": {},
   "outputs": [],
   "source": [
    "url = \"https://en.wikipedia.org/wiki/List_of_United_States_military_bases\""
   ]
  },
  {
   "cell_type": "code",
   "execution_count": 420,
   "metadata": {},
   "outputs": [],
   "source": [
    "drivers.get(url)\n",
    "content = drivers.page_source\n",
    "soup = BeautifulSoup(content)"
   ]
  },
  {
   "cell_type": "code",
   "execution_count": 443,
   "metadata": {},
   "outputs": [],
   "source": [
    "Domestic = []\n",
    "d_names = []\n",
    "Overseas = []\n",
    "o_names = []\n",
    "z=[3,1,3,3,3,14,5,1,1,1,6,5,7,3,3,3,3,3,2,4,4,4,3,2,3,2,1,1,1,3,2,5,5,1,3,3,2,6,5,3,2,1,3,13,14,1,13,3,1,2,1]\n",
    "o = z = [4,2,2,2,2,1,4,1,1,1,4,1,1,1,1,5,1,1,4,2,1,1,2,1,1,1,1,1,2,3,1,2,3,6],"
   ]
  },
  {
   "cell_type": "code",
   "execution_count": 422,
   "metadata": {},
   "outputs": [],
   "source": [
    "country = soup.findAll('td',attrs={'style':'text-align: left; vertical-align: top;'})"
   ]
  },
  {
   "cell_type": "code",
   "execution_count": 423,
   "metadata": {},
   "outputs": [],
   "source": [
    "for i in range(0,17,2):\n",
    "    results = (country[2].contents[1].contents[i].contents[0]).replace('\\n','')\n",
    "    Domestic.append(results)"
   ]
  },
  {
   "cell_type": "code",
   "execution_count": 424,
   "metadata": {},
   "outputs": [],
   "source": [
    "for j in range(20,79,2):\n",
    "    results = (country[2].contents[1].contents[j].contents[0]).replace('\\n','')\n",
    "    Domestic.append(results)"
   ]
  },
  {
   "cell_type": "code",
   "execution_count": 425,
   "metadata": {},
   "outputs": [],
   "source": [
    "for k in range(82,105,2):\n",
    "    results = (country[2].contents[1].contents[k].contents[0]).replace('\\n','')\n",
    "    Domestic.append(results)"
   ]
  },
  {
   "cell_type": "code",
   "execution_count": 426,
   "metadata": {},
   "outputs": [],
   "source": [
    "url = \"https://en.wikipedia.org/wiki/List_of_countries_with_overseas_military_bases\""
   ]
  },
  {
   "cell_type": "code",
   "execution_count": 427,
   "metadata": {},
   "outputs": [],
   "source": [
    "drivers.get(url)\n",
    "content = drivers.page_source\n",
    "soup = BeautifulSoup(content)"
   ]
  },
  {
   "cell_type": "code",
   "execution_count": 428,
   "metadata": {},
   "outputs": [],
   "source": [
    "result = soup.findAll('ul')"
   ]
  },
  {
   "cell_type": "code",
   "execution_count": 429,
   "metadata": {},
   "outputs": [],
   "source": [
    "for i in range(0,63,2):\n",
    "    countries = result[18].contents[i].contents[1].text\n",
    "    Overseas.append(countries)    "
   ]
  },
  {
   "cell_type": "code",
   "execution_count": 430,
   "metadata": {},
   "outputs": [],
   "source": [
    "countries = result[19].contents[0].contents[1].text\n",
    "Overseas.append(countries)    "
   ]
  },
  {
   "cell_type": "code",
   "execution_count": 431,
   "metadata": {},
   "outputs": [],
   "source": [
    "for m in range(0,5,2):\n",
    "    countries = result[20].contents[m].contents[1].text\n",
    "    Overseas.append(countries) "
   ]
  },
  {
   "cell_type": "code",
   "execution_count": 432,
   "metadata": {},
   "outputs": [],
   "source": [
    "for names in Domestic:\n",
    "    d_names.append(names[:5])"
   ]
  },
  {
   "cell_type": "code",
   "execution_count": 433,
   "metadata": {},
   "outputs": [],
   "source": [
    "for names_ in Overseas:\n",
    "    o_names.append(names_[:5])"
   ]
  },
  {
   "cell_type": "code",
   "execution_count": 434,
   "metadata": {},
   "outputs": [],
   "source": [
    "dataset1 = pd.DataFrame({'Country':Domestic,'Sign':d_names,'Military base':z})"
   ]
  },
  {
   "cell_type": "code",
   "execution_count": 375,
   "metadata": {},
   "outputs": [],
   "source": [
    "dataset2 = pd.DataFrame({'Country':Overseas,'Sign':o_names,'Military base':o})"
   ]
  },
  {
   "cell_type": "code",
   "execution_count": 376,
   "metadata": {},
   "outputs": [],
   "source": [
    "import plotly.plotly as py\n",
    "import plotly.graph_objs as go \n",
    "from plotly.offline import download_plotlyjs, init_notebook_mode, plot, iplot"
   ]
  },
  {
   "cell_type": "code",
   "execution_count": 377,
   "metadata": {},
   "outputs": [
    {
     "data": {
      "text/html": [
       "        <script type=\"text/javascript\">\n",
       "        window.PlotlyConfig = {MathJaxConfig: 'local'};\n",
       "        if (window.MathJax) {MathJax.Hub.Config({SVG: {font: \"STIX-Web\"}});}\n",
       "        if (typeof require !== 'undefined') {\n",
       "        require.undef(\"plotly\");\n",
       "        requirejs.config({\n",
       "            paths: {\n",
       "                'plotly': ['https://cdn.plot.ly/plotly-latest.min']\n",
       "            }\n",
       "        });\n",
       "        require(['plotly'], function(Plotly) {\n",
       "            window._Plotly = Plotly;\n",
       "        });\n",
       "        }\n",
       "        </script>\n",
       "        "
      ]
     },
     "metadata": {},
     "output_type": "display_data"
    }
   ],
   "source": [
    "init_notebook_mode(connected=True) "
   ]
  },
  {
   "cell_type": "code",
   "execution_count": 439,
   "metadata": {},
   "outputs": [],
   "source": [
    "data1 = dict(type = 'choropleth',\n",
    "            locations = dataset1['Country'],\n",
    "            locationmode = 'USA-states',\n",
    "            colorscale= 'Portland',\n",
    "            text= dataset1['Country'],\n",
    "            z= dataset1['Military base'],\n",
    "            colorbar = {'title':'Domestic Military base of USA'})"
   ]
  },
  {
   "cell_type": "code",
   "execution_count": 440,
   "metadata": {},
   "outputs": [],
   "source": [
    "layout = dict(geo = {'scope':'usa'})"
   ]
  },
  {
   "cell_type": "code",
   "execution_count": 441,
   "metadata": {},
   "outputs": [
    {
     "data": {
      "application/vnd.plotly.v1+json": {
       "config": {
        "linkText": "Export to plot.ly",
        "plotlyServerURL": "https://plot.ly",
        "showLink": false
       },
       "data": [
        {
         "colorbar": {
          "title": {
           "text": "Military base"
          }
         },
         "colorscale": "Portland",
         "locationmode": "USA-states",
         "locations": [
          "Alabama",
          "American Samoa",
          "Alaska",
          "Arizona",
          "Arkansas",
          "California",
          "Colorado",
          "Connecticut",
          "Delaware",
          "Florida",
          "Georgia",
          "Hawaii",
          "Idaho",
          "Illinois",
          "Indiana",
          "Iowa",
          "Kansas",
          "Kentucky",
          "Louisiana",
          "Maine",
          "Maryland",
          "Massachusetts",
          "Michigan",
          "Minnesota",
          "Mississippi",
          "Missouri",
          "Montana",
          "Nebraska",
          "Nevada",
          "New Hampshire",
          "New Jersey",
          "New Mexico",
          "New York",
          "North Carolina",
          "North Dakota",
          "Ohio",
          "Oklahoma",
          "Oregon",
          "Pennsylvania",
          "Rhode Island",
          "South Carolina",
          "South Dakota",
          "Tennessee",
          "Texas",
          "Utah",
          "Vermont",
          "Virginia",
          "Washington",
          "West Virginia",
          "Wisconsin",
          "Wyoming"
         ],
         "text": [
          "Alabama",
          "American Samoa",
          "Alaska",
          "Arizona",
          "Arkansas",
          "California",
          "Colorado",
          "Connecticut",
          "Delaware",
          "Florida",
          "Georgia",
          "Hawaii",
          "Idaho",
          "Illinois",
          "Indiana",
          "Iowa",
          "Kansas",
          "Kentucky",
          "Louisiana",
          "Maine",
          "Maryland",
          "Massachusetts",
          "Michigan",
          "Minnesota",
          "Mississippi",
          "Missouri",
          "Montana",
          "Nebraska",
          "Nevada",
          "New Hampshire",
          "New Jersey",
          "New Mexico",
          "New York",
          "North Carolina",
          "North Dakota",
          "Ohio",
          "Oklahoma",
          "Oregon",
          "Pennsylvania",
          "Rhode Island",
          "South Carolina",
          "South Dakota",
          "Tennessee",
          "Texas",
          "Utah",
          "Vermont",
          "Virginia",
          "Washington",
          "West Virginia",
          "Wisconsin",
          "Wyoming"
         ],
         "type": "choropleth",
         "uid": "edb8c186-552b-4f08-93f0-7021f9f31647",
         "z": [
          3,
          1,
          3,
          3,
          3,
          14,
          5,
          1,
          1,
          1,
          6,
          5,
          7,
          3,
          3,
          3,
          3,
          3,
          2,
          4,
          4,
          4,
          3,
          2,
          3,
          2,
          1,
          1,
          1,
          3,
          2,
          5,
          5,
          1,
          3,
          3,
          2,
          6,
          5,
          3,
          2,
          1,
          3,
          13,
          14,
          1,
          13,
          3,
          1,
          2,
          1
         ]
        }
       ],
       "layout": {
        "geo": {
         "scope": "usa"
        }
       }
      },
      "text/html": [
       "<div>\n",
       "        \n",
       "        \n",
       "            <div id=\"9cad8b74-d3e1-42bc-9d57-dfaa049e30c1\" class=\"plotly-graph-div\" style=\"height:525px; width:100%;\"></div>\n",
       "            <script type=\"text/javascript\">\n",
       "                require([\"plotly\"], function(Plotly) {\n",
       "                    window.PLOTLYENV=window.PLOTLYENV || {};\n",
       "                    window.PLOTLYENV.BASE_URL='https://plot.ly';\n",
       "                    \n",
       "                if (document.getElementById(\"9cad8b74-d3e1-42bc-9d57-dfaa049e30c1\")) {\n",
       "                    Plotly.newPlot(\n",
       "                        '9cad8b74-d3e1-42bc-9d57-dfaa049e30c1',\n",
       "                        [{\"colorbar\": {\"title\": {\"text\": \"Military base\"}}, \"colorscale\": \"Portland\", \"locationmode\": \"USA-states\", \"locations\": [\"Alabama\", \"American Samoa\", \"Alaska\", \"Arizona\", \"Arkansas\", \"California\", \"Colorado\", \"Connecticut\", \"Delaware\", \"Florida\", \"Georgia\", \"Hawaii\", \"Idaho\", \"Illinois\", \"Indiana\", \"Iowa\", \"Kansas\", \"Kentucky\", \"Louisiana\", \"Maine\", \"Maryland\", \"Massachusetts\", \"Michigan\", \"Minnesota\", \"Mississippi\", \"Missouri\", \"Montana\", \"Nebraska\", \"Nevada\", \"New Hampshire\", \"New Jersey\", \"New Mexico\", \"New York\", \"North Carolina\", \"North Dakota\", \"Ohio\", \"Oklahoma\", \"Oregon\", \"Pennsylvania\", \"Rhode Island\", \"South Carolina\", \"South Dakota\", \"Tennessee\", \"Texas\", \"Utah\", \"Vermont\", \"Virginia\", \"Washington\", \"West Virginia\", \"Wisconsin\", \"Wyoming\"], \"text\": [\"Alabama\", \"American Samoa\", \"Alaska\", \"Arizona\", \"Arkansas\", \"California\", \"Colorado\", \"Connecticut\", \"Delaware\", \"Florida\", \"Georgia\", \"Hawaii\", \"Idaho\", \"Illinois\", \"Indiana\", \"Iowa\", \"Kansas\", \"Kentucky\", \"Louisiana\", \"Maine\", \"Maryland\", \"Massachusetts\", \"Michigan\", \"Minnesota\", \"Mississippi\", \"Missouri\", \"Montana\", \"Nebraska\", \"Nevada\", \"New Hampshire\", \"New Jersey\", \"New Mexico\", \"New York\", \"North Carolina\", \"North Dakota\", \"Ohio\", \"Oklahoma\", \"Oregon\", \"Pennsylvania\", \"Rhode Island\", \"South Carolina\", \"South Dakota\", \"Tennessee\", \"Texas\", \"Utah\", \"Vermont\", \"Virginia\", \"Washington\", \"West Virginia\", \"Wisconsin\", \"Wyoming\"], \"type\": \"choropleth\", \"uid\": \"edb8c186-552b-4f08-93f0-7021f9f31647\", \"z\": [3, 1, 3, 3, 3, 14, 5, 1, 1, 1, 6, 5, 7, 3, 3, 3, 3, 3, 2, 4, 4, 4, 3, 2, 3, 2, 1, 1, 1, 3, 2, 5, 5, 1, 3, 3, 2, 6, 5, 3, 2, 1, 3, 13, 14, 1, 13, 3, 1, 2, 1]}],\n",
       "                        {\"geo\": {\"scope\": \"usa\"}},\n",
       "                        {\"showLink\": false, \"linkText\": \"Export to plot.ly\", \"plotlyServerURL\": \"https://plot.ly\", \"responsive\": true}\n",
       "                    ).then(function(){\n",
       "                            \n",
       "var gd = document.getElementById('9cad8b74-d3e1-42bc-9d57-dfaa049e30c1');\n",
       "var x = new MutationObserver(function (mutations, observer) {{\n",
       "        var display = window.getComputedStyle(gd).display;\n",
       "        if (!display || display === 'none') {{\n",
       "            console.log([gd, 'removed!']);\n",
       "            Plotly.purge(gd);\n",
       "            observer.disconnect();\n",
       "        }}\n",
       "}});\n",
       "\n",
       "// Listen for the removal of the full notebook cells\n",
       "var notebookContainer = gd.closest('#notebook-container');\n",
       "if (notebookContainer) {{\n",
       "    x.observe(notebookContainer, {childList: true});\n",
       "}}\n",
       "\n",
       "// Listen for the clearing of the current output cell\n",
       "var outputEl = gd.closest('.output');\n",
       "if (outputEl) {{\n",
       "    x.observe(outputEl, {childList: true});\n",
       "}}\n",
       "\n",
       "                        })\n",
       "                };\n",
       "                });\n",
       "            </script>\n",
       "        </div>"
      ]
     },
     "metadata": {},
     "output_type": "display_data"
    }
   ],
   "source": [
    "choromap = go.Figure(data = [data1],layout = layout)\n",
    "iplot(choromap)"
   ]
  },
  {
   "cell_type": "code",
   "execution_count": 411,
   "metadata": {},
   "outputs": [],
   "source": [
    "data2 = dict(\n",
    "        type = 'choropleth',\n",
    "        colorscale = 'Viridis',\n",
    "        reversescale = True,\n",
    "        locations = dataset2['Country'],\n",
    "        locationmode = \"country names\",\n",
    "        z = dataset['Military base'],\n",
    "        text = dataset2['Country'],\n",
    "        colorbar = {'title' : 'Number of bases'},\n",
    "      ) \n",
    "\n",
    "layout = dict(title = 'Overseas Military base of USA',\n",
    "                geo = dict(showframe = False,projection = {'type':'natural earth'})\n",
    "             )"
   ]
  },
  {
   "cell_type": "code",
   "execution_count": 412,
   "metadata": {},
   "outputs": [
    {
     "data": {
      "application/vnd.plotly.v1+json": {
       "config": {
        "linkText": "Export to plot.ly",
        "plotlyServerURL": "https://plot.ly",
        "showLink": false
       },
       "data": [
        {
         "colorbar": {
          "title": {
           "text": "Overseas Military of USA"
          }
         },
         "colorscale": "Viridis",
         "locationmode": "country names",
         "locations": [
          "Afghanistan",
          "Australia",
          "Bahrain",
          "Belgium",
          "Brazil",
          "British Indian Ocean Territory",
          "Bulgaria",
          "Cuba",
          "Curaçao",
          "Djibouti",
          "Germany",
          "Greece",
          "Greenland",
          "Honduras",
          "Iceland",
          "Israel",
          "Italy",
          "Japan",
          "Kosovo",
          "Kuwait",
          "Netherlands",
          "Niger",
          "Norway",
          "Oman",
          "Philippines",
          "Portugal",
          "Qatar",
          "Saudi Arabia",
          "Singapore",
          "South Korea",
          "Spain",
          "Syria",
          "Tunisia",
          "Turkey",
          "United Arab Emirates",
          "United Kingdom"
         ],
         "reversescale": true,
         "text": [
          "Afghanistan",
          "Australia",
          "Bahrain",
          "Belgium",
          "Brazil",
          "British Indian Ocean Territory",
          "Bulgaria",
          "Cuba",
          "Curaçao",
          "Djibouti",
          "Germany",
          "Greece",
          "Greenland",
          "Honduras",
          "Iceland",
          "Israel",
          "Italy",
          "Japan",
          "Kosovo",
          "Kuwait",
          "Netherlands",
          "Niger",
          "Norway",
          "Oman",
          "Philippines",
          "Portugal",
          "Qatar",
          "Saudi Arabia",
          "Singapore",
          "South Korea",
          "Spain",
          "Syria",
          "Tunisia",
          "Turkey",
          "United Arab Emirates",
          "United Kingdom"
         ],
         "type": "choropleth",
         "uid": "2b6c298d-9b93-447a-8174-6ab0be4bfaac",
         "z": [
          4,
          2,
          2,
          2,
          2,
          1,
          4,
          1,
          1,
          1,
          4,
          1,
          1,
          1,
          1,
          5,
          1,
          1,
          4,
          2,
          1,
          1,
          2,
          1,
          1,
          1,
          1,
          1,
          2,
          3,
          1,
          2,
          3,
          6
         ]
        }
       ],
       "layout": {
        "geo": {
         "projection": {
          "type": "natural earth"
         },
         "showframe": false
        },
        "title": {
         "text": "Overseas"
        }
       }
      },
      "text/html": [
       "<div>\n",
       "        \n",
       "        \n",
       "            <div id=\"b31eb641-7931-42bf-ac66-887091d4d350\" class=\"plotly-graph-div\" style=\"height:525px; width:100%;\"></div>\n",
       "            <script type=\"text/javascript\">\n",
       "                require([\"plotly\"], function(Plotly) {\n",
       "                    window.PLOTLYENV=window.PLOTLYENV || {};\n",
       "                    window.PLOTLYENV.BASE_URL='https://plot.ly';\n",
       "                    \n",
       "                if (document.getElementById(\"b31eb641-7931-42bf-ac66-887091d4d350\")) {\n",
       "                    Plotly.newPlot(\n",
       "                        'b31eb641-7931-42bf-ac66-887091d4d350',\n",
       "                        [{\"colorbar\": {\"title\": {\"text\": \"Overseas Military of USA\"}}, \"colorscale\": \"Viridis\", \"locationmode\": \"country names\", \"locations\": [\"Afghanistan\", \"Australia\", \"Bahrain\", \"Belgium\", \"Brazil\", \"British Indian Ocean Territory\", \"Bulgaria\", \"Cuba\", \"Cura\\u00e7ao\", \"Djibouti\", \"Germany\", \"Greece\", \"Greenland\", \"Honduras\", \"Iceland\", \"Israel\", \"Italy\", \"Japan\", \"Kosovo\", \"Kuwait\", \"Netherlands\", \"Niger\", \"Norway\", \"Oman\", \"Philippines\", \"Portugal\", \"Qatar\", \"Saudi Arabia\", \"Singapore\", \"South Korea\", \"Spain\", \"Syria\", \"Tunisia\", \"Turkey\", \"United Arab Emirates\", \"United Kingdom\"], \"reversescale\": true, \"text\": [\"Afghanistan\", \"Australia\", \"Bahrain\", \"Belgium\", \"Brazil\", \"British Indian Ocean Territory\", \"Bulgaria\", \"Cuba\", \"Cura\\u00e7ao\", \"Djibouti\", \"Germany\", \"Greece\", \"Greenland\", \"Honduras\", \"Iceland\", \"Israel\", \"Italy\", \"Japan\", \"Kosovo\", \"Kuwait\", \"Netherlands\", \"Niger\", \"Norway\", \"Oman\", \"Philippines\", \"Portugal\", \"Qatar\", \"Saudi Arabia\", \"Singapore\", \"South Korea\", \"Spain\", \"Syria\", \"Tunisia\", \"Turkey\", \"United Arab Emirates\", \"United Kingdom\"], \"type\": \"choropleth\", \"uid\": \"2b6c298d-9b93-447a-8174-6ab0be4bfaac\", \"z\": [4, 2, 2, 2, 2, 1, 4, 1, 1, 1, 4, 1, 1, 1, 1, 5, 1, 1, 4, 2, 1, 1, 2, 1, 1, 1, 1, 1, 2, 3, 1, 2, 3, 6]}],\n",
       "                        {\"geo\": {\"projection\": {\"type\": \"natural earth\"}, \"showframe\": false}, \"title\": {\"text\": \"Overseas\"}},\n",
       "                        {\"showLink\": false, \"linkText\": \"Export to plot.ly\", \"plotlyServerURL\": \"https://plot.ly\", \"responsive\": true}\n",
       "                    ).then(function(){\n",
       "                            \n",
       "var gd = document.getElementById('b31eb641-7931-42bf-ac66-887091d4d350');\n",
       "var x = new MutationObserver(function (mutations, observer) {{\n",
       "        var display = window.getComputedStyle(gd).display;\n",
       "        if (!display || display === 'none') {{\n",
       "            console.log([gd, 'removed!']);\n",
       "            Plotly.purge(gd);\n",
       "            observer.disconnect();\n",
       "        }}\n",
       "}});\n",
       "\n",
       "// Listen for the removal of the full notebook cells\n",
       "var notebookContainer = gd.closest('#notebook-container');\n",
       "if (notebookContainer) {{\n",
       "    x.observe(notebookContainer, {childList: true});\n",
       "}}\n",
       "\n",
       "// Listen for the clearing of the current output cell\n",
       "var outputEl = gd.closest('.output');\n",
       "if (outputEl) {{\n",
       "    x.observe(outputEl, {childList: true});\n",
       "}}\n",
       "\n",
       "                        })\n",
       "                };\n",
       "                });\n",
       "            </script>\n",
       "        </div>"
      ]
     },
     "metadata": {},
     "output_type": "display_data"
    }
   ],
   "source": [
    "choromap = go.Figure(data = [data2],layout = layout)\n",
    "iplot(choromap,validate=False)"
   ]
  },
  {
   "cell_type": "code",
   "execution_count": null,
   "metadata": {},
   "outputs": [],
   "source": []
  }
 ],
 "metadata": {
  "kernelspec": {
   "display_name": "Python 3",
   "language": "python",
   "name": "python3"
  },
  "language_info": {
   "codemirror_mode": {
    "name": "ipython",
    "version": 3
   },
   "file_extension": ".py",
   "mimetype": "text/x-python",
   "name": "python",
   "nbconvert_exporter": "python",
   "pygments_lexer": "ipython3",
   "version": "3.7.3"
  }
 },
 "nbformat": 4,
 "nbformat_minor": 2
}
