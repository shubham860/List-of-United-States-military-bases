{
 "cells": [
  {
   "cell_type": "code",
   "execution_count": 500,
   "metadata": {},
   "outputs": [],
   "source": [
    "import pandas as pd\n",
    "from bs4 import BeautifulSoup\n",
    "from selenium import webdriver\n",
    "\n",
    "drivers = webdriver.Chrome(\"C:\\\\usr\\\\chromedriver\")"
   ]
  },
  {
   "cell_type": "code",
   "execution_count": 501,
   "metadata": {},
   "outputs": [],
   "source": [
    "url = \"https://en.wikipedia.org/wiki/List_of_United_States_military_bases\""
   ]
  },
  {
   "cell_type": "code",
   "execution_count": 502,
   "metadata": {},
   "outputs": [],
   "source": [
    "drivers.get(url)\n",
    "content = drivers.page_source\n",
    "soup = BeautifulSoup(content)"
   ]
  },
  {
   "cell_type": "code",
   "execution_count": 503,
   "metadata": {},
   "outputs": [],
   "source": [
    "Domestic = []\n",
    "d_names = []\n",
    "Overseas = []\n",
    "o_names = []\n",
    "z=[3,1,3,3,3,14,5,1,1,1,6,5,7,3,3,3,3,3,2,4,4,4,3,2,3,2,1,1,1,3,2,5,5,1,3,3,2,6,5,3,2,1,3,13,14,1,13,3,1,2,1]\n",
    "o =[4,2,2,2,2,1,4,1,1,1,4,1,1,1,1,5,1,1,4,2,1,1,2,1,1,1,1,1,2,3,1,2,3,6,1,2]"
   ]
  },
  {
   "cell_type": "code",
   "execution_count": 504,
   "metadata": {},
   "outputs": [],
   "source": [
    "country = soup.findAll('td',attrs={'style':'text-align: left; vertical-align: top;'})"
   ]
  },
  {
   "cell_type": "code",
   "execution_count": 505,
   "metadata": {},
   "outputs": [],
   "source": [
    "for i in range(0,17,2):\n",
    "    results = (country[2].contents[1].contents[i].contents[0]).replace('\\n','')\n",
    "    Domestic.append(results)"
   ]
  },
  {
   "cell_type": "code",
   "execution_count": 506,
   "metadata": {},
   "outputs": [],
   "source": [
    "for j in range(20,79,2):\n",
    "    results = (country[2].contents[1].contents[j].contents[0]).replace('\\n','')\n",
    "    Domestic.append(results)"
   ]
  },
  {
   "cell_type": "code",
   "execution_count": 507,
   "metadata": {},
   "outputs": [],
   "source": [
    "for k in range(82,105,2):\n",
    "    results = (country[2].contents[1].contents[k].contents[0]).replace('\\n','')\n",
    "    Domestic.append(results)"
   ]
  },
  {
   "cell_type": "code",
   "execution_count": 508,
   "metadata": {},
   "outputs": [],
   "source": [
    "url = \"https://en.wikipedia.org/wiki/List_of_countries_with_overseas_military_bases\""
   ]
  },
  {
   "cell_type": "code",
   "execution_count": 509,
   "metadata": {},
   "outputs": [],
   "source": [
    "drivers.get(url)\n",
    "content = drivers.page_source\n",
    "soup = BeautifulSoup(content)"
   ]
  },
  {
   "cell_type": "code",
   "execution_count": 510,
   "metadata": {},
   "outputs": [],
   "source": [
    "result = soup.findAll('ul')"
   ]
  },
  {
   "cell_type": "code",
   "execution_count": 511,
   "metadata": {},
   "outputs": [],
   "source": [
    "for i in range(0,63,2):\n",
    "    countries = result[18].contents[i].contents[1].text\n",
    "    Overseas.append(countries)    "
   ]
  },
  {
   "cell_type": "code",
   "execution_count": 512,
   "metadata": {},
   "outputs": [],
   "source": [
    "countries = result[19].contents[0].contents[1].text\n",
    "Overseas.append(countries)    "
   ]
  },
  {
   "cell_type": "code",
   "execution_count": 513,
   "metadata": {},
   "outputs": [],
   "source": [
    "for m in range(0,5,2):\n",
    "    countries = result[20].contents[m].contents[1].text\n",
    "    Overseas.append(countries) "
   ]
  },
  {
   "cell_type": "code",
   "execution_count": 514,
   "metadata": {},
   "outputs": [],
   "source": [
    "for names in Domestic:\n",
    "    d_names.append(names[:5])"
   ]
  },
  {
   "cell_type": "code",
   "execution_count": 515,
   "metadata": {},
   "outputs": [],
   "source": [
    "for names_ in Overseas:\n",
    "    o_names.append(names_[:5])"
   ]
  },
  {
   "cell_type": "code",
   "execution_count": 516,
   "metadata": {},
   "outputs": [],
   "source": [
    "dataset1 = pd.DataFrame({'Country':Domestic,'Sign':d_names,'Military base':z})"
   ]
  },
  {
   "cell_type": "code",
   "execution_count": 517,
   "metadata": {},
   "outputs": [],
   "source": [
    "dataset2 = pd.DataFrame({'Country':Overseas,'Sign':o_names,'Military base':o})"
   ]
  },
  {
   "cell_type": "code",
   "execution_count": 518,
   "metadata": {},
   "outputs": [],
   "source": [
    "import plotly.plotly as py\n",
    "import plotly.graph_objs as go \n",
    "from plotly.offline import download_plotlyjs, init_notebook_mode, plot, iplot"
   ]
  },
  {
   "cell_type": "code",
   "execution_count": 519,
   "metadata": {},
   "outputs": [
    {
     "data": {
      "text/html": [
       "        <script type=\"text/javascript\">\n",
       "        window.PlotlyConfig = {MathJaxConfig: 'local'};\n",
       "        if (window.MathJax) {MathJax.Hub.Config({SVG: {font: \"STIX-Web\"}});}\n",
       "        if (typeof require !== 'undefined') {\n",
       "        require.undef(\"plotly\");\n",
       "        requirejs.config({\n",
       "            paths: {\n",
       "                'plotly': ['https://cdn.plot.ly/plotly-latest.min']\n",
       "            }\n",
       "        });\n",
       "        require(['plotly'], function(Plotly) {\n",
       "            window._Plotly = Plotly;\n",
       "        });\n",
       "        }\n",
       "        </script>\n",
       "        "
      ]
     },
     "metadata": {},
     "output_type": "display_data"
    }
   ],
   "source": [
    "init_notebook_mode(connected=True) "
   ]
  },
  {
   "cell_type": "code",
   "execution_count": 520,
   "metadata": {},
   "outputs": [],
   "source": [
    "data1 = dict(type = 'choropleth',\n",
    "            locations = dataset1['Country'],\n",
    "            locationmode = 'USA-states',\n",
    "            colorscale= 'Portland',\n",
    "            text= dataset1['Country'],\n",
    "            z= dataset1['Military base'],\n",
    "            colorbar = {'title':'Domestic Military base of USA'})"
   ]
  },
  {
   "cell_type": "code",
   "execution_count": 521,
   "metadata": {},
   "outputs": [],
   "source": [
    "layout = dict(geo = {'scope':'usa'})"
   ]
  },
  {
   "cell_type": "code",
   "execution_count": 522,
   "metadata": {},
   "outputs": [
    {
     "data": {
      "application/vnd.plotly.v1+json": {
       "config": {
        "linkText": "Export to plot.ly",
        "plotlyServerURL": "https://plot.ly",
        "showLink": false
       },
       "data": [
        {
         "colorbar": {
          "title": {
           "text": "Domestic Military base of USA"
          }
         },
         "colorscale": "Portland",
         "locationmode": "USA-states",
         "locations": [
          "Alabama",
          "American Samoa",
          "Alaska",
          "Arizona",
          "Arkansas",
          "California",
          "Colorado",
          "Connecticut",
          "Delaware",
          "Florida",
          "Georgia",
          "Hawaii",
          "Idaho",
          "Illinois",
          "Indiana",
          "Iowa",
          "Kansas",
          "Kentucky",
          "Louisiana",
          "Maine",
          "Maryland",
          "Massachusetts",
          "Michigan",
          "Minnesota",
          "Mississippi",
          "Missouri",
          "Montana",
          "Nebraska",
          "Nevada",
          "New Hampshire",
          "New Jersey",
          "New Mexico",
          "New York",
          "North Carolina",
          "North Dakota",
          "Ohio",
          "Oklahoma",
          "Oregon",
          "Pennsylvania",
          "Rhode Island",
          "South Carolina",
          "South Dakota",
          "Tennessee",
          "Texas",
          "Utah",
          "Vermont",
          "Virginia",
          "Washington",
          "West Virginia",
          "Wisconsin",
          "Wyoming"
         ],
         "text": [
          "Alabama",
          "American Samoa",
          "Alaska",
          "Arizona",
          "Arkansas",
          "California",
          "Colorado",
          "Connecticut",
          "Delaware",
          "Florida",
          "Georgia",
          "Hawaii",
          "Idaho",
          "Illinois",
          "Indiana",
          "Iowa",
          "Kansas",
          "Kentucky",
          "Louisiana",
          "Maine",
          "Maryland",
          "Massachusetts",
          "Michigan",
          "Minnesota",
          "Mississippi",
          "Missouri",
          "Montana",
          "Nebraska",
          "Nevada",
          "New Hampshire",
          "New Jersey",
          "New Mexico",
          "New York",
          "North Carolina",
          "North Dakota",
          "Ohio",
          "Oklahoma",
          "Oregon",
          "Pennsylvania",
          "Rhode Island",
          "South Carolina",
          "South Dakota",
          "Tennessee",
          "Texas",
          "Utah",
          "Vermont",
          "Virginia",
          "Washington",
          "West Virginia",
          "Wisconsin",
          "Wyoming"
         ],
         "type": "choropleth",
         "uid": "91f6d800-e071-4c4c-9e2e-e23936a59a6e",
         "z": [
          3,
          1,
          3,
          3,
          3,
          14,
          5,
          1,
          1,
          1,
          6,
          5,
          7,
          3,
          3,
          3,
          3,
          3,
          2,
          4,
          4,
          4,
          3,
          2,
          3,
          2,
          1,
          1,
          1,
          3,
          2,
          5,
          5,
          1,
          3,
          3,
          2,
          6,
          5,
          3,
          2,
          1,
          3,
          13,
          14,
          1,
          13,
          3,
          1,
          2,
          1
         ]
        }
       ],
       "layout": {
        "geo": {
         "scope": "usa"
        }
       }
      },
      "text/html": [
       "<div>\n",
       "        \n",
       "        \n",
       "            <div id=\"34e68c07-f987-4d6e-b892-8882b6d0b604\" class=\"plotly-graph-div\" style=\"height:525px; width:100%;\"></div>\n",
       "            <script type=\"text/javascript\">\n",
       "                require([\"plotly\"], function(Plotly) {\n",
       "                    window.PLOTLYENV=window.PLOTLYENV || {};\n",
       "                    window.PLOTLYENV.BASE_URL='https://plot.ly';\n",
       "                    \n",
       "                if (document.getElementById(\"34e68c07-f987-4d6e-b892-8882b6d0b604\")) {\n",
       "                    Plotly.newPlot(\n",
       "                        '34e68c07-f987-4d6e-b892-8882b6d0b604',\n",
       "                        [{\"colorbar\": {\"title\": {\"text\": \"Domestic Military base of USA\"}}, \"colorscale\": \"Portland\", \"locationmode\": \"USA-states\", \"locations\": [\"Alabama\", \"American Samoa\", \"Alaska\", \"Arizona\", \"Arkansas\", \"California\", \"Colorado\", \"Connecticut\", \"Delaware\", \"Florida\", \"Georgia\", \"Hawaii\", \"Idaho\", \"Illinois\", \"Indiana\", \"Iowa\", \"Kansas\", \"Kentucky\", \"Louisiana\", \"Maine\", \"Maryland\", \"Massachusetts\", \"Michigan\", \"Minnesota\", \"Mississippi\", \"Missouri\", \"Montana\", \"Nebraska\", \"Nevada\", \"New Hampshire\", \"New Jersey\", \"New Mexico\", \"New York\", \"North Carolina\", \"North Dakota\", \"Ohio\", \"Oklahoma\", \"Oregon\", \"Pennsylvania\", \"Rhode Island\", \"South Carolina\", \"South Dakota\", \"Tennessee\", \"Texas\", \"Utah\", \"Vermont\", \"Virginia\", \"Washington\", \"West Virginia\", \"Wisconsin\", \"Wyoming\"], \"text\": [\"Alabama\", \"American Samoa\", \"Alaska\", \"Arizona\", \"Arkansas\", \"California\", \"Colorado\", \"Connecticut\", \"Delaware\", \"Florida\", \"Georgia\", \"Hawaii\", \"Idaho\", \"Illinois\", \"Indiana\", \"Iowa\", \"Kansas\", \"Kentucky\", \"Louisiana\", \"Maine\", \"Maryland\", \"Massachusetts\", \"Michigan\", \"Minnesota\", \"Mississippi\", \"Missouri\", \"Montana\", \"Nebraska\", \"Nevada\", \"New Hampshire\", \"New Jersey\", \"New Mexico\", \"New York\", \"North Carolina\", \"North Dakota\", \"Ohio\", \"Oklahoma\", \"Oregon\", \"Pennsylvania\", \"Rhode Island\", \"South Carolina\", \"South Dakota\", \"Tennessee\", \"Texas\", \"Utah\", \"Vermont\", \"Virginia\", \"Washington\", \"West Virginia\", \"Wisconsin\", \"Wyoming\"], \"type\": \"choropleth\", \"uid\": \"91f6d800-e071-4c4c-9e2e-e23936a59a6e\", \"z\": [3, 1, 3, 3, 3, 14, 5, 1, 1, 1, 6, 5, 7, 3, 3, 3, 3, 3, 2, 4, 4, 4, 3, 2, 3, 2, 1, 1, 1, 3, 2, 5, 5, 1, 3, 3, 2, 6, 5, 3, 2, 1, 3, 13, 14, 1, 13, 3, 1, 2, 1]}],\n",
       "                        {\"geo\": {\"scope\": \"usa\"}},\n",
       "                        {\"showLink\": false, \"linkText\": \"Export to plot.ly\", \"plotlyServerURL\": \"https://plot.ly\", \"responsive\": true}\n",
       "                    ).then(function(){\n",
       "                            \n",
       "var gd = document.getElementById('34e68c07-f987-4d6e-b892-8882b6d0b604');\n",
       "var x = new MutationObserver(function (mutations, observer) {{\n",
       "        var display = window.getComputedStyle(gd).display;\n",
       "        if (!display || display === 'none') {{\n",
       "            console.log([gd, 'removed!']);\n",
       "            Plotly.purge(gd);\n",
       "            observer.disconnect();\n",
       "        }}\n",
       "}});\n",
       "\n",
       "// Listen for the removal of the full notebook cells\n",
       "var notebookContainer = gd.closest('#notebook-container');\n",
       "if (notebookContainer) {{\n",
       "    x.observe(notebookContainer, {childList: true});\n",
       "}}\n",
       "\n",
       "// Listen for the clearing of the current output cell\n",
       "var outputEl = gd.closest('.output');\n",
       "if (outputEl) {{\n",
       "    x.observe(outputEl, {childList: true});\n",
       "}}\n",
       "\n",
       "                        })\n",
       "                };\n",
       "                });\n",
       "            </script>\n",
       "        </div>"
      ]
     },
     "metadata": {},
     "output_type": "display_data"
    }
   ],
   "source": [
    "choromap = go.Figure(data = [data1],layout = layout)\n",
    "iplot(choromap)"
   ]
  },
  {
   "cell_type": "code",
   "execution_count": 532,
   "metadata": {},
   "outputs": [],
   "source": [
    "data2 = dict(\n",
    "        type = 'choropleth',\n",
    "        colorscale = 'Blackbody',\n",
    "        reversescale = True,\n",
    "        locations = dataset2['Country'],\n",
    "        locationmode = \"country names\",\n",
    "        z = dataset2['Military base'],\n",
    "        text = dataset2['Country'],\n",
    "        colorbar = {'title' : 'Number of bases'},\n",
    "      ) \n",
    "\n",
    "layout = dict(title = 'Overseas Army base of USA',\n",
    "                geo = dict(showframe = False,projection = {'type':'natural earth'})\n",
    "             )"
   ]
  },
  {
   "cell_type": "code",
   "execution_count": 533,
   "metadata": {},
   "outputs": [
    {
     "data": {
      "application/vnd.plotly.v1+json": {
       "config": {
        "linkText": "Export to plot.ly",
        "plotlyServerURL": "https://plot.ly",
        "showLink": false
       },
       "data": [
        {
         "colorbar": {
          "title": {
           "text": "Number of bases"
          }
         },
         "colorscale": "Blackbody",
         "locationmode": "country names",
         "locations": [
          "Afghanistan",
          "Australia",
          "Bahrain",
          "Belgium",
          "Brazil",
          "British Indian Ocean Territory",
          "Bulgaria",
          "Cuba",
          "Curaçao",
          "Djibouti",
          "Germany",
          "Greece",
          "Greenland",
          "Honduras",
          "Iceland",
          "Israel",
          "Italy",
          "Japan",
          "Kosovo",
          "Kuwait",
          "Netherlands",
          "Niger",
          "Norway",
          "Oman",
          "Philippines",
          "Portugal",
          "Qatar",
          "Saudi Arabia",
          "Singapore",
          "South Korea",
          "Spain",
          "Syria",
          "Tunisia",
          "Turkey",
          "United Arab Emirates",
          "United Kingdom"
         ],
         "reversescale": true,
         "text": [
          "Afghanistan",
          "Australia",
          "Bahrain",
          "Belgium",
          "Brazil",
          "British Indian Ocean Territory",
          "Bulgaria",
          "Cuba",
          "Curaçao",
          "Djibouti",
          "Germany",
          "Greece",
          "Greenland",
          "Honduras",
          "Iceland",
          "Israel",
          "Italy",
          "Japan",
          "Kosovo",
          "Kuwait",
          "Netherlands",
          "Niger",
          "Norway",
          "Oman",
          "Philippines",
          "Portugal",
          "Qatar",
          "Saudi Arabia",
          "Singapore",
          "South Korea",
          "Spain",
          "Syria",
          "Tunisia",
          "Turkey",
          "United Arab Emirates",
          "United Kingdom"
         ],
         "type": "choropleth",
         "uid": "e093760f-fd20-4797-a61b-c52520c0ca30",
         "z": [
          4,
          2,
          2,
          2,
          2,
          1,
          4,
          1,
          1,
          1,
          4,
          1,
          1,
          1,
          1,
          5,
          1,
          1,
          4,
          2,
          1,
          1,
          2,
          1,
          1,
          1,
          1,
          1,
          2,
          3,
          1,
          2,
          3,
          6,
          1,
          2
         ]
        }
       ],
       "layout": {
        "geo": {
         "projection": {
          "type": "natural earth"
         },
         "showframe": false
        },
        "title": {
         "text": "Overseas Military base of USA"
        }
       }
      },
      "text/html": [
       "<div>\n",
       "        \n",
       "        \n",
       "            <div id=\"6115a6f9-26f7-4fc9-a31c-e0676f476ed6\" class=\"plotly-graph-div\" style=\"height:525px; width:100%;\"></div>\n",
       "            <script type=\"text/javascript\">\n",
       "                require([\"plotly\"], function(Plotly) {\n",
       "                    window.PLOTLYENV=window.PLOTLYENV || {};\n",
       "                    window.PLOTLYENV.BASE_URL='https://plot.ly';\n",
       "                    \n",
       "                if (document.getElementById(\"6115a6f9-26f7-4fc9-a31c-e0676f476ed6\")) {\n",
       "                    Plotly.newPlot(\n",
       "                        '6115a6f9-26f7-4fc9-a31c-e0676f476ed6',\n",
       "                        [{\"colorbar\": {\"title\": {\"text\": \"Number of bases\"}}, \"colorscale\": \"Blackbody\", \"locationmode\": \"country names\", \"locations\": [\"Afghanistan\", \"Australia\", \"Bahrain\", \"Belgium\", \"Brazil\", \"British Indian Ocean Territory\", \"Bulgaria\", \"Cuba\", \"Cura\\u00e7ao\", \"Djibouti\", \"Germany\", \"Greece\", \"Greenland\", \"Honduras\", \"Iceland\", \"Israel\", \"Italy\", \"Japan\", \"Kosovo\", \"Kuwait\", \"Netherlands\", \"Niger\", \"Norway\", \"Oman\", \"Philippines\", \"Portugal\", \"Qatar\", \"Saudi Arabia\", \"Singapore\", \"South Korea\", \"Spain\", \"Syria\", \"Tunisia\", \"Turkey\", \"United Arab Emirates\", \"United Kingdom\"], \"reversescale\": true, \"text\": [\"Afghanistan\", \"Australia\", \"Bahrain\", \"Belgium\", \"Brazil\", \"British Indian Ocean Territory\", \"Bulgaria\", \"Cuba\", \"Cura\\u00e7ao\", \"Djibouti\", \"Germany\", \"Greece\", \"Greenland\", \"Honduras\", \"Iceland\", \"Israel\", \"Italy\", \"Japan\", \"Kosovo\", \"Kuwait\", \"Netherlands\", \"Niger\", \"Norway\", \"Oman\", \"Philippines\", \"Portugal\", \"Qatar\", \"Saudi Arabia\", \"Singapore\", \"South Korea\", \"Spain\", \"Syria\", \"Tunisia\", \"Turkey\", \"United Arab Emirates\", \"United Kingdom\"], \"type\": \"choropleth\", \"uid\": \"e093760f-fd20-4797-a61b-c52520c0ca30\", \"z\": [4, 2, 2, 2, 2, 1, 4, 1, 1, 1, 4, 1, 1, 1, 1, 5, 1, 1, 4, 2, 1, 1, 2, 1, 1, 1, 1, 1, 2, 3, 1, 2, 3, 6, 1, 2]}],\n",
       "                        {\"geo\": {\"projection\": {\"type\": \"natural earth\"}, \"showframe\": false}, \"title\": {\"text\": \"Overseas Military base of USA\"}},\n",
       "                        {\"showLink\": false, \"linkText\": \"Export to plot.ly\", \"plotlyServerURL\": \"https://plot.ly\", \"responsive\": true}\n",
       "                    ).then(function(){\n",
       "                            \n",
       "var gd = document.getElementById('6115a6f9-26f7-4fc9-a31c-e0676f476ed6');\n",
       "var x = new MutationObserver(function (mutations, observer) {{\n",
       "        var display = window.getComputedStyle(gd).display;\n",
       "        if (!display || display === 'none') {{\n",
       "            console.log([gd, 'removed!']);\n",
       "            Plotly.purge(gd);\n",
       "            observer.disconnect();\n",
       "        }}\n",
       "}});\n",
       "\n",
       "// Listen for the removal of the full notebook cells\n",
       "var notebookContainer = gd.closest('#notebook-container');\n",
       "if (notebookContainer) {{\n",
       "    x.observe(notebookContainer, {childList: true});\n",
       "}}\n",
       "\n",
       "// Listen for the clearing of the current output cell\n",
       "var outputEl = gd.closest('.output');\n",
       "if (outputEl) {{\n",
       "    x.observe(outputEl, {childList: true});\n",
       "}}\n",
       "\n",
       "                        })\n",
       "                };\n",
       "                });\n",
       "            </script>\n",
       "        </div>"
      ]
     },
     "metadata": {},
     "output_type": "display_data"
    }
   ],
   "source": [
    "choromap = go.Figure(data = [data2],layout = layout)\n",
    "iplot(choromap,validate=False)"
   ]
  },
  {
   "cell_type": "code",
   "execution_count": null,
   "metadata": {},
   "outputs": [],
   "source": []
  }
 ],
 "metadata": {
  "kernelspec": {
   "display_name": "Python 3",
   "language": "python",
   "name": "python3"
  },
  "language_info": {
   "codemirror_mode": {
    "name": "ipython",
    "version": 3
   },
   "file_extension": ".py",
   "mimetype": "text/x-python",
   "name": "python",
   "nbconvert_exporter": "python",
   "pygments_lexer": "ipython3",
   "version": "3.7.3"
  }
 },
 "nbformat": 4,
 "nbformat_minor": 2
}
