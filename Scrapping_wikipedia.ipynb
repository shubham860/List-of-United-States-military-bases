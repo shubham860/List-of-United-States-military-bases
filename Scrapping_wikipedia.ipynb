{
 "cells": [
  {
   "cell_type": "code",
   "execution_count": 1,
   "metadata": {},
   "outputs": [],
   "source": [
    "import pandas as pd\n",
    "from bs4 import BeautifulSoup\n",
    "from selenium import webdriver\n",
    "\n",
    "drivers = webdriver.Chrome(\"C:\\\\usr\\\\chromedriver\")"
   ]
  },
  {
   "cell_type": "code",
   "execution_count": 2,
   "metadata": {},
   "outputs": [],
   "source": [
    "url = \"https://en.wikipedia.org/wiki/List_of_United_States_military_bases\""
   ]
  },
  {
   "cell_type": "code",
   "execution_count": 3,
   "metadata": {},
   "outputs": [],
   "source": [
    "drivers.get(url)\n",
    "content = drivers.page_source\n",
    "soup = BeautifulSoup(content)"
   ]
  },
  {
   "cell_type": "code",
   "execution_count": 4,
   "metadata": {},
   "outputs": [],
   "source": [
    "Domestic = []\n",
    "d_names = []\n",
    "Overseas = []\n",
    "o_names = []\n",
    "z=[3,1,3,3,3,14,5,1,1,1,6,5,7,3,3,3,3,3,2,4,4,4,3,2,3,2,1,1,1,3,2,5,5,1,3,3,2,6,5,3,2,1,3,13,14,1,13,3,1,2,1]\n",
    "o =[4,2,2,2,2,1,4,1,1,1,4,1,1,1,1,5,1,1,4,2,1,1,2,1,1,1,1,1,2,3,1,2,3,6,1,2]"
   ]
  },
  {
   "cell_type": "code",
   "execution_count": 5,
   "metadata": {},
   "outputs": [],
   "source": [
    "country = soup.findAll('td',attrs={'style':'text-align: left; vertical-align: top;'})"
   ]
  },
  {
   "cell_type": "code",
   "execution_count": 6,
   "metadata": {},
   "outputs": [],
   "source": [
    "for i in range(0,17,2):\n",
    "    results = (country[2].contents[1].contents[i].contents[0]).replace('\\n','')\n",
    "    Domestic.append(results)"
   ]
  },
  {
   "cell_type": "code",
   "execution_count": 7,
   "metadata": {},
   "outputs": [],
   "source": [
    "for j in range(20,79,2):\n",
    "    results = (country[2].contents[1].contents[j].contents[0]).replace('\\n','')\n",
    "    Domestic.append(results)"
   ]
  },
  {
   "cell_type": "code",
   "execution_count": 8,
   "metadata": {},
   "outputs": [],
   "source": [
    "for k in range(82,105,2):\n",
    "    results = (country[2].contents[1].contents[k].contents[0]).replace('\\n','')\n",
    "    Domestic.append(results)"
   ]
  },
  {
   "cell_type": "code",
   "execution_count": 9,
   "metadata": {},
   "outputs": [],
   "source": [
    "url = \"https://en.wikipedia.org/wiki/List_of_countries_with_overseas_military_bases\""
   ]
  },
  {
   "cell_type": "code",
   "execution_count": 10,
   "metadata": {},
   "outputs": [],
   "source": [
    "drivers.get(url)\n",
    "content = drivers.page_source\n",
    "soup = BeautifulSoup(content)"
   ]
  },
  {
   "cell_type": "code",
   "execution_count": 11,
   "metadata": {},
   "outputs": [],
   "source": [
    "result = soup.findAll('ul')"
   ]
  },
  {
   "cell_type": "code",
   "execution_count": 12,
   "metadata": {},
   "outputs": [],
   "source": [
    "for i in range(0,63,2):\n",
    "    countries = result[18].contents[i].contents[1].text\n",
    "    Overseas.append(countries)    "
   ]
  },
  {
   "cell_type": "code",
   "execution_count": 13,
   "metadata": {},
   "outputs": [],
   "source": [
    "countries = result[19].contents[0].contents[1].text\n",
    "Overseas.append(countries)    "
   ]
  },
  {
   "cell_type": "code",
   "execution_count": 14,
   "metadata": {},
   "outputs": [],
   "source": [
    "for m in range(0,5,2):\n",
    "    countries = result[20].contents[m].contents[1].text\n",
    "    Overseas.append(countries) "
   ]
  },
  {
   "cell_type": "code",
   "execution_count": 15,
   "metadata": {},
   "outputs": [],
   "source": [
    "for names in Domestic:\n",
    "    d_names.append(names[:5])"
   ]
  },
  {
   "cell_type": "code",
   "execution_count": 16,
   "metadata": {},
   "outputs": [],
   "source": [
    "for names_ in Overseas:\n",
    "    o_names.append(names_[:5])"
   ]
  },
  {
   "cell_type": "code",
   "execution_count": 17,
   "metadata": {},
   "outputs": [],
   "source": [
    "dataset1 = pd.DataFrame({'Country':Domestic,'Sign':d_names,'Military base':z})\n",
    "dataset1.to_csv('Domestic.csv',index=False,encoding='utf-8')"
   ]
  },
  {
   "cell_type": "code",
   "execution_count": 26,
   "metadata": {},
   "outputs": [],
   "source": [
    "dataset2 = pd.DataFrame({'Country':Overseas,'Sign':o_names,'Military base':o})\n",
    "dataset2.to_csv('Overseas.csv',index=False,encoding='utf-8')  "
   ]
  }
 ],
 "metadata": {
  "kernelspec": {
   "display_name": "Python 3",
   "language": "python",
   "name": "python3"
  },
  "language_info": {
   "codemirror_mode": {
    "name": "ipython",
    "version": 3
   },
   "file_extension": ".py",
   "mimetype": "text/x-python",
   "name": "python",
   "nbconvert_exporter": "python",
   "pygments_lexer": "ipython3",
   "version": "3.7.3"
  }
 },
 "nbformat": 4,
 "nbformat_minor": 2
}
